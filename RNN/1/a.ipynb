{
 "cells": [
  {
   "cell_type": "code",
   "execution_count": 1,
   "metadata": {},
   "outputs": [
    {
     "name": "stdout",
     "output_type": "stream",
     "text": [
      "128\n",
      "(32, 128)\n",
      "(32, 128)\n",
      "(32, 128)\n"
     ]
    }
   ],
   "source": [
    "import tensorflow as tf\n",
    "import numpy as np\n",
    "\n",
    "# define an input layer with batch size x input size\n",
    "inputs = tf.placeholder(np.float32, shape=(32, 100))\n",
    "\n",
    "# define a cell with hidden size\n",
    "cell = tf.nn.rnn_cell.BasicRNNCell(num_units=128)\n",
    "print(cell.state_size)\n",
    "\n",
    "# step1: initialize a hidden layer with batch size \n",
    "h0 = cell.zero_state(32, np.float32)\n",
    "print(h0.shape)\n",
    "\n",
    "# step2: invoke cell.call to get output and next hidden layer\n",
    "output, h1 = cell.call(inputs, h0)\n",
    "print(output.shape)\n",
    "print(h1.shape)"
   ]
  },
  {
   "cell_type": "code",
   "execution_count": 2,
   "metadata": {},
   "outputs": [
    {
     "name": "stdout",
     "output_type": "stream",
     "text": [
      "LSTMStateTuple(c=128, h=128)\n",
      "Tensor(\"BasicLSTMCellZeroState/zeros:0\", shape=(32, 128), dtype=float32)\n",
      "Tensor(\"BasicLSTMCellZeroState/zeros_1:0\", shape=(32, 128), dtype=float32)\n",
      "(32, 128)\n",
      "Tensor(\"basic_lstm_cell/add_1:0\", shape=(32, 128), dtype=float32)\n",
      "Tensor(\"basic_lstm_cell/mul_2:0\", shape=(32, 128), dtype=float32)\n"
     ]
    }
   ],
   "source": [
    "import tensorflow as tf\n",
    "import numpy as np\n",
    "\n",
    "# define an input layer with batch size x input size\n",
    "inputs = tf.placeholder(np.float32, shape=(32, 100))\n",
    "\n",
    "# define a cell with hidden size\n",
    "cell = tf.nn.rnn_cell.BasicLSTMCell(num_units=128)\n",
    "print(cell.state_size)\n",
    "\n",
    "# step1: initialize a hidden layer with batch size \n",
    "h0 = cell.zero_state(32, np.float32)\n",
    "print(h0.c)\n",
    "print(h0.h)\n",
    "\n",
    "# step2: invoke cell.__call__ to get output and next hidden layer\n",
    "output, h1 = cell.__call__(inputs, h0)\n",
    "print(output.shape)\n",
    "print(h1.c)\n",
    "print(h1.h)"
   ]
  },
  {
   "cell_type": "code",
   "execution_count": 3,
   "metadata": {},
   "outputs": [
    {
     "name": "stdout",
     "output_type": "stream",
     "text": [
      "128\n",
      "(32, 128)\n",
      "(32, 10, 128)\n",
      "(32, 128)\n"
     ]
    }
   ],
   "source": [
    "import tensorflow as tf\n",
    "import numpy as np\n",
    "\n",
    "# define an input layer with batch size x time step x input size\n",
    "inputs = tf.placeholder(np.float32, shape=(32, 10, 100))\n",
    "\n",
    "# define a cell with hidden size\n",
    "cell = tf.nn.rnn_cell.BasicRNNCell(num_units=128)\n",
    "print(cell.state_size)\n",
    "\n",
    "# step1: initialize a hidden layer with batch size \n",
    "h0 = cell.zero_state(32, np.float32)\n",
    "print(h0.shape)\n",
    "\n",
    "# step2: invoke tf.nn.dynamic_rnn\n",
    "outputs, hn = tf.nn.dynamic_rnn(cell, inputs, initial_state=h0)\n",
    "print(outputs.shape)\n",
    "print(hn.shape)"
   ]
  },
  {
   "cell_type": "code",
   "execution_count": 4,
   "metadata": {},
   "outputs": [
    {
     "name": "stdout",
     "output_type": "stream",
     "text": [
      "(128, 128)\n",
      "(32, 128)\n",
      "(32, 128)\n",
      "(32, 10, 128)\n",
      "(32, 128)\n",
      "(32, 128)\n"
     ]
    }
   ],
   "source": [
    "import tensorflow as tf\n",
    "import numpy as np\n",
    "\n",
    "# define an input layer with batch size x time step x input size\n",
    "inputs = tf.placeholder(np.float32, shape=(32, 10, 100))\n",
    "\n",
    "# define a cell with hidden size\n",
    "cell = tf.contrib.rnn.MultiRNNCell([\n",
    "    tf.nn.rnn_cell.BasicRNNCell(num_units=128) for _ in range(2)]\n",
    ")\n",
    "print(cell.state_size)\n",
    "\n",
    "# step1: initialize a hidden layer with batch size \n",
    "h0 = cell.zero_state(32, np.float32)\n",
    "print(h0[0].shape)\n",
    "print(h0[1].shape)\n",
    "\n",
    "# step2: invoke tf.nn.dynamic_rnn\n",
    "outputs, hn = tf.nn.dynamic_rnn(cell, inputs, initial_state=h0)\n",
    "print(outputs.shape)\n",
    "print(hn[0].shape)\n",
    "print(hn[1].shape)"
   ]
  }
 ],
 "metadata": {
  "kernelspec": {
   "display_name": "Python 3",
   "language": "python",
   "name": "python3"
  },
  "language_info": {
   "codemirror_mode": {
    "name": "ipython",
    "version": 3
   },
   "file_extension": ".py",
   "mimetype": "text/x-python",
   "name": "python",
   "nbconvert_exporter": "python",
   "pygments_lexer": "ipython3",
   "version": "3.6.1"
  }
 },
 "nbformat": 4,
 "nbformat_minor": 2
}
